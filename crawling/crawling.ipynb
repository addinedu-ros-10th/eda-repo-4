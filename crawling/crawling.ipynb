{
 "cells": [
  {
   "cell_type": "code",
   "execution_count": 1,
   "id": "069f6200",
   "metadata": {},
   "outputs": [],
   "source": [
    "from selenium import webdriver\n",
    "from selenium.webdriver.chrome.service import Service\n",
    "from selenium.webdriver.common.by import By\n",
    "\n",
    "from kiwipiepy import Kiwi\n",
    "\n",
    "from collections import Counter\n",
    "\n",
    "import time"
   ]
  },
  {
   "cell_type": "code",
   "execution_count": 2,
   "id": "10112ca0",
   "metadata": {},
   "outputs": [],
   "source": [
    "kiwi = Kiwi()\n",
    "\n",
    "def count_word(text, word_counts):\n",
    "    # kiwi.analyze()로 분석 후, 품사가 'NNG'(일반 명사), 'NNP'(고유 명사)인 경우만 추출\n",
    "    nouns = [token.form for token in kiwi.analyze(text)[0][0] if token.tag.startswith('NN')]\n",
    "    new_word_counts = Counter(nouns) + word_counts\n",
    "    return new_word_counts"
   ]
  },
  {
   "cell_type": "code",
   "execution_count": 7,
   "id": "1e8dd41e",
   "metadata": {},
   "outputs": [],
   "source": [
    "driver = webdriver.Chrome(service=Service(\"./driver/chromedriver\"))\n",
    "\n",
    "# url에 포함되어 있는 parameters\n",
    "# 정렬 : sort={\"0\":관련도순, \"1\":최신순, \"2\":오래된순}\n",
    "# 기간 : (시작기간)ds=YYYY.MM.DD, (끝기간)de=YYYY.MM.DD\n",
    "# 유형 : photo={\"0\":전체, \"1\":포토, \"2\":동영상, \"3\":지면기사, ...}\n",
    "# mynews=1, office_type=3, office_category=3으로 수정\n",
    "company_name = \"폭락\"  # 검색어\n",
    "date = \"2024.08.05\"      # 검색기간(하루로 제한 -> 추후 수정 예정)\n",
    "url = f\"https://search.naver.com/search.naver?ssc=tab.news.all&query={company_name}&sm=tab_opt&sort=0&photo=3&field=0&pd=3&ds={date}&de={date}&docid=&related=0&mynews=1&office_type=3&office_section_code=0&news_office_checked=&nso=so%3Ar%2Cp%3Afrom{date.replace(\".\",\"\")}to{date.replace(\".\",\"\")}&is_sug_officeid=0&office_category=3&service_area=0\"\n",
    "driver.get(url)\n",
    "time.sleep(2)            # 사이트 차단 방지를 위한 멈춤"
   ]
  },
  {
   "cell_type": "code",
   "execution_count": 8,
   "id": "7d767906",
   "metadata": {},
   "outputs": [],
   "source": [
    "# 기간 내 기사들의 링크 모두 가져오기\n",
    "\n",
    "# 모든 기사가 보일때까지 스크롤\n",
    "len_before_scroll = 0\n",
    "while (True):\n",
    "    # 현재 로드된 뉴스 기사 목록을 모두 가져온다 (CSS 선택자는 실제 페이지에 맞게 수정)\n",
    "    articles = driver.find_elements(By.CSS_SELECTOR, \"div.BHQHyn3Flk5rFBSacJkG\")\n",
    "\n",
    "    # 스크롤 후 기사 수\n",
    "    len_after_scroll = len(articles)\n",
    "\n",
    "    if len(articles)>50:\n",
    "        break\n",
    "\n",
    "    # 목록의 끝에서 두 번째 항목을 타겟으로 지정 (마지막 항목은 푸터와 겹칠 수 있음)\n",
    "    if len(articles) > 1:\n",
    "        target_element = articles[-2]\n",
    "        \n",
    "        # JavaScript를 실행하여 해당 요소가 보이도록 스크롤\n",
    "        driver.execute_script(\"arguments[0].scrollIntoView()\", target_element)\n",
    "\n",
    "        time.sleep(1)\n",
    "\n",
    "    # 스크롤 전후 기사 수 비교 (같다면 더이상 스크롤 할 필요 X)\n",
    "    if len_before_scroll == len_after_scroll:\n",
    "        break\n",
    "\n",
    "    len_before_scroll = len_after_scroll"
   ]
  },
  {
   "cell_type": "code",
   "execution_count": null,
   "id": "7906b0c3",
   "metadata": {},
   "outputs": [],
   "source": [
    "# 모든 기사들의 데이터 가져오기\n",
    "\n",
    "news = driver.find_elements(By.CSS_SELECTOR, \"div.BHQHyn3Flk5rFBSacJkG\")\n",
    "news_links =[]\n",
    "word_counts=Counter()\n",
    "for each in news:\n",
    "    link_btn = each.find_element(By.CLASS_NAME, \"GUWgsNcVrWa67MoYor6N.xR1x3GgF_MIcYPUZNqEu\")\n",
    "    link_btn.click()\n",
    "    time.sleep(1)\n",
    "\n",
    "    # 새롭게 생긴 탭으로 핸들 넘기기\n",
    "    original_window_handle = driver.current_window_handle\n",
    "    new_tab_handle = None\n",
    "    for handle in driver.window_handles:\n",
    "        if handle != original_window_handle:\n",
    "            new_tab_handle = handle\n",
    "            break\n",
    "    driver.switch_to.window(new_tab_handle)\n",
    "\n",
    "    # 제목 가져오기\n",
    "    title = driver.find_element(By.CLASS_NAME, \"media_end_head_title\")\n",
    "    # print(title.text)\n",
    "    # print(\"---------------------------------------------------------\")\n",
    "\n",
    "    # 기사 내용 가져오기\n",
    "    article = driver.find_element(By.TAG_NAME, \"article\")\n",
    "    word_counts = count_word(article.text, word_counts)\n",
    "    # print(article.text)\n",
    "    # print(\"=======================================================\")\n",
    "\n",
    "    # 다시 탭 닫고 핸들 넘기기\n",
    "    driver.close()\n",
    "    driver.switch_to.window(original_window_handle)\n",
    "    time.sleep(1)"
   ]
  },
  {
   "cell_type": "code",
   "execution_count": null,
   "id": "4e1b1ce2",
   "metadata": {},
   "outputs": [],
   "source": [
    "print(word_counts)"
   ]
  },
  {
   "cell_type": "code",
   "execution_count": null,
   "id": "3abf18cf",
   "metadata": {},
   "outputs": [],
   "source": [
    "driver.quit()"
   ]
  },
  {
   "cell_type": "code",
   "execution_count": null,
   "id": "5d8f4f03",
   "metadata": {},
   "outputs": [],
   "source": []
  },
  {
   "cell_type": "code",
   "execution_count": null,
   "id": "9f0a4ad3",
   "metadata": {},
   "outputs": [],
   "source": []
  },
  {
   "cell_type": "code",
   "execution_count": null,
   "id": "d831be2b",
   "metadata": {},
   "outputs": [],
   "source": []
  },
  {
   "cell_type": "code",
   "execution_count": null,
   "id": "b48de09c",
   "metadata": {},
   "outputs": [],
   "source": []
  },
  {
   "cell_type": "code",
   "execution_count": null,
   "id": "61cb780c",
   "metadata": {},
   "outputs": [],
   "source": []
  },
  {
   "cell_type": "code",
   "execution_count": null,
   "id": "b18a81b9",
   "metadata": {},
   "outputs": [],
   "source": []
  }
 ],
 "metadata": {
  "kernelspec": {
   "display_name": "eda_venv",
   "language": "python",
   "name": "python3"
  },
  "language_info": {
   "codemirror_mode": {
    "name": "ipython",
    "version": 3
   },
   "file_extension": ".py",
   "mimetype": "text/x-python",
   "name": "python",
   "nbconvert_exporter": "python",
   "pygments_lexer": "ipython3",
   "version": "3.12.3"
  }
 },
 "nbformat": 4,
 "nbformat_minor": 5
}
